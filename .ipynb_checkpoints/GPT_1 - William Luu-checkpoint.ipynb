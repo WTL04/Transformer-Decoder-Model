{
 "cells": [
  {
   "cell_type": "markdown",
   "id": "5cf61c4b",
   "metadata": {
    "id": "5cf61c4b"
   },
   "source": [
    "# Programming Task Description\n",
    "\n",
    "## Programming Task: Implementing a Character-Level GPT Model\n",
    "\n",
    "### Introduction\n",
    "In this task, you will create a Python script using PyTorch to implement a simplified GPT (Generative Pre-trained Transformer) model for character-level language modeling. The model will be trained on the text in input.txt to predict the next character in a sequence and generate new text based on a given context. The architecture follows the decoder part of the transformer model from the \"Attention is All You Need\" paper by Vaswani et al., focusing on masked multi-head self-attention to ensure predictions depend only on previous positions."
   ]
  },
  {
   "cell_type": "markdown",
   "id": "8537c2f6",
   "metadata": {
    "id": "8537c2f6"
   },
   "source": [
    "## Task Description\n",
    "### Your goal is to write a Python jupyter notebook that:\n",
    "\n",
    "1. Reads and processes the text from input.txt.\n",
    "2. Implements a decoder-only transformer model with manual attention mechanisms.\n",
    "3. Trains the model on the processed data.\n",
    "4. Generates new text using the trained model.\n",
    "\n",
    "You will use PyTorch and implement the attention mechanism from scratch, following the decoder structure outlined in the \"Attention is All You Need\" paper."
   ]
  },
  {
   "cell_type": "markdown",
   "id": "2df79368",
   "metadata": {
    "id": "2df79368"
   },
   "source": [
    "### Step-by-step Guide"
   ]
  },
  {
   "cell_type": "markdown",
   "id": "1d5d36b1",
   "metadata": {
    "id": "1d5d36b1"
   },
   "source": [
    "1. Data Preparation\n",
    "* Read all text from input.txt using UTF-8 encoding.\n",
    "* Create a sorted list of unique characters (vocabulary) from the text.\n",
    "* Build two dictionaries:\n",
    "    * stoi: Maps characters to integers (e.g., 'a' -> 0).\n",
    "    * itos: Maps integers to characters (e.g., 0 -> 'a').\n",
    "* Define functions:\n",
    "    * encode(s): Converts a string to a list of integers using stoi.\n",
    "    * decode(l): Converts a list of integers to a string using itos.\n",
    "* Encode the entire text into a tensor of integers using torch.tensor.\n",
    "* Split the data: 90% for training, 10% for validation."
   ]
  },
  {
   "cell_type": "markdown",
   "id": "d37a3e46",
   "metadata": {
    "id": "d37a3e46"
   },
   "source": [
    "2. Data Loading\n",
    "* Implement a function get_batch(split):\n",
    "    * Input: split is either 'train' or 'val'.\n",
    "    * Select the appropriate dataset (training or validation).\n",
    "    * Randomly sample batch_size starting indices, ensuring each sequence fits within block_size.\n",
    "* Return:\n",
    "    * x: A tensor of shape (batch_size, block_size) with input sequences.\n",
    "    * y: A tensor of shape (batch_size, block_size) with target sequences (shifted by one position).\n",
    "* Move tensors to the device (CPU or GPU)."
   ]
  },
  {
   "cell_type": "markdown",
   "id": "6f100337",
   "metadata": {
    "id": "6f100337"
   },
   "source": [
    "3. Model Architecture\n",
    "* Implement the following components in a decoder-only transformer:\n",
    "    * Embedding Layers:\n",
    "        * Token embedding: nn.Embedding(vocab_size, n_embd) for character indices.\n",
    "        * Position embedding: nn.Embedding(block_size, n_embd) for positions 0 to block_size-1.\n",
    "    * Transformer Blocks:\n",
    "        * Each block includes:\n",
    "            * Masked Multi-Head Self-Attention:\n",
    "                * Implement manually (do not use nn.MultiheadAttention).\n",
    "                * For each head:\n",
    "                    * Linear layers for queries (Q), keys (K), and values (V).\n",
    "                    * Scaled dot-product attention: attention = softmax((Q @ K.T) / sqrt(d_k)) @ V.\n",
    "                    * Mask future positions with a lower triangular matrix (e.g., tril) by setting future weights to -inf before softmax.\n",
    "                * Concatenate heads and apply a projection layer.\n",
    "            * Feed-Forward Network: nn.Linear(n_embd, 4 * n_embd) → ReLU → nn.Linear(4 * n_embd, n_embd).\n",
    "            * Layer Normalization: Apply nn.LayerNorm(n_embd) before each sub-layer (pre-norm).\n",
    "            * Residual Connections: Add input to output of each sub-layer.\n",
    "        * Use n_layer blocks in sequence.\n",
    "    * Final Layers:\n",
    "        * nn.LayerNorm(n_embd) for final normalization.\n",
    "        * nn.Linear(n_embd, vocab_size) to produce logits.\n",
    "* Define a GPTLanguageModel class with:\n",
    "    * forward(idx, targets=None): Computes logits and loss (if targets provided).\n",
    "    * generate(idx, max_new_tokens): Autoregressively generates new tokens."
   ]
  },
  {
   "cell_type": "markdown",
   "id": "2098832e",
   "metadata": {
    "id": "2098832e"
   },
   "source": [
    "4. Training\n",
    "* Use the AdamW optimizer with learning_rate = 3e-4.\n",
    "* Train for max_iters = 5000 iterations.\n",
    "* Estimate and print training and validation losses:\n",
    "* Compute loss using F.cross_entropy on flattened logits and targets."
   ]
  },
  {
   "cell_type": "markdown",
   "id": "1838a7a8",
   "metadata": {
    "id": "1838a7a8"
   },
   "source": [
    "5. Text Generation\n",
    "* Implement generate(idx, max_new_tokens):\n",
    "    * Start with an initial context idx (shape (B, T)).\n",
    "    * For max_new_tokens steps:\n",
    "        * Crop idx to the last block_size tokens.\n",
    "        * Get logits from forward.\n",
    "        * Apply softmax to the last time step’s logits to get probabilities.\n",
    "        * Sample the next token using torch.multinomial.\n",
    "        * Append the sampled token to idx.\n",
    "    * Return the extended sequence."
   ]
  },
  {
   "cell_type": "markdown",
   "id": "0d2b8dab",
   "metadata": {
    "id": "0d2b8dab"
   },
   "source": [
    "### Hyperparameters\n",
    "Use these values:\n",
    "\n",
    "* batch_size = 64\n",
    "* block_size = 256\n",
    "* n_embd = 384\n",
    "* n_head = 6\n",
    "* n_layer = 6\n",
    "* dropout = 0.2\n",
    "* learning_rate = 3e-4\n",
    "* max_iters = 5000"
   ]
  },
  {
   "cell_type": "markdown",
   "id": "89d1a954",
   "metadata": {
    "id": "89d1a954"
   },
   "source": [
    "### Understanding the Decoder\n",
    "The \"Attention is All You Need\" paper describes a transformer with an encoder and decoder. For this task, you focus on the decoder-only architecture used in GPT:\n",
    "\n",
    "* Masked Self-Attention: Ensures the model only attends to previous positions in the sequence, making it autoregressive. This is achieved by masking future tokens in the attention computation, as shown below:\n",
    "\n",
    "$Attention (Q, K, V) = softmax((Q@K.T)/sqrt(d_{k}) + mask) @V$\n",
    "\n",
    "where $mask$ sets future positions to $-inf$\n",
    "\n",
    "* Decoder Role: In the original paper, the decoder generates output sequences while attending to the encoder’s output. Here, without an encoder, it uses self-attention on the input sequence alone, predicting the next token step-by-step."
   ]
  },
  {
   "cell_type": "markdown",
   "id": "5b33caf5",
   "metadata": {
    "id": "5b33caf5"
   },
   "source": [
    "### Additional Notes\n",
    "* Manual Attention: Implement attention from scratch to understand its mechanics (no pre-built PyTorch modules).\n",
    "* Masking: Use a lower triangular matrix (e.g., torch.tril) to mask future positions.\n",
    "* Device Handling: Set device = 'cuda' if torch.cuda.is_available() else 'cpu' and move tensors/models accordingly.\n",
    "* Dropout: Apply nn.Dropout(dropout) in attention and feed-forward layers for regularization."
   ]
  },
  {
   "cell_type": "markdown",
   "id": "9c0da406",
   "metadata": {
    "id": "9c0da406"
   },
   "source": [
    "### Deliverables\n",
    "A Python script that:\n",
    "* Implements all steps above.\n",
    "* Prints training and validation losses every 500/100? iterations (up to you).\n",
    "* Generates and prints a 500-character sample after training."
   ]
  },
  {
   "cell_type": "markdown",
   "id": "36b7b3ac",
   "metadata": {
    "id": "36b7b3ac"
   },
   "source": [
    "### Evaluation Criteria\n",
    "* Correct data preparation and batch loading.\n",
    "* Accurate implementation of the transformer model, especially masked self-attention.\n",
    "* Successful training with decreasing loss.\n",
    "* Generation of coherent (for character-level) text."
   ]
  },
  {
   "cell_type": "markdown",
   "id": "f7296007",
   "metadata": {
    "id": "f7296007"
   },
   "source": [
    "# Installing Packages\n",
    "---"
   ]
  },
  {
   "cell_type": "code",
   "execution_count": 1,
   "id": "Q1b7yQsL8Efx",
   "metadata": {
    "colab": {
     "base_uri": "https://localhost:8080/"
    },
    "id": "Q1b7yQsL8Efx",
    "outputId": "e3834d66-e463-4ddc-9ae4-a5a7b279caff",
    "scrolled": true
   },
   "outputs": [
    {
     "name": "stdout",
     "output_type": "stream",
     "text": [
      "Requirement already satisfied: torch in ./venv/lib/python3.13/site-packages (2.7.0)\n",
      "Requirement already satisfied: filelock in ./venv/lib/python3.13/site-packages (from torch) (3.18.0)\n",
      "Requirement already satisfied: typing-extensions>=4.10.0 in ./venv/lib/python3.13/site-packages (from torch) (4.13.2)\n",
      "Requirement already satisfied: setuptools in ./venv/lib/python3.13/site-packages (from torch) (80.4.0)\n",
      "Requirement already satisfied: sympy>=1.13.3 in ./venv/lib/python3.13/site-packages (from torch) (1.14.0)\n",
      "Requirement already satisfied: networkx in ./venv/lib/python3.13/site-packages (from torch) (3.4.2)\n",
      "Requirement already satisfied: jinja2 in ./venv/lib/python3.13/site-packages (from torch) (3.1.6)\n",
      "Requirement already satisfied: fsspec in ./venv/lib/python3.13/site-packages (from torch) (2025.3.2)\n",
      "Requirement already satisfied: nvidia-cuda-nvrtc-cu12==12.6.77 in ./venv/lib/python3.13/site-packages (from torch) (12.6.77)\n",
      "Requirement already satisfied: nvidia-cuda-runtime-cu12==12.6.77 in ./venv/lib/python3.13/site-packages (from torch) (12.6.77)\n",
      "Requirement already satisfied: nvidia-cuda-cupti-cu12==12.6.80 in ./venv/lib/python3.13/site-packages (from torch) (12.6.80)\n",
      "Requirement already satisfied: nvidia-cudnn-cu12==9.5.1.17 in ./venv/lib/python3.13/site-packages (from torch) (9.5.1.17)\n",
      "Requirement already satisfied: nvidia-cublas-cu12==12.6.4.1 in ./venv/lib/python3.13/site-packages (from torch) (12.6.4.1)\n",
      "Requirement already satisfied: nvidia-cufft-cu12==11.3.0.4 in ./venv/lib/python3.13/site-packages (from torch) (11.3.0.4)\n",
      "Requirement already satisfied: nvidia-curand-cu12==10.3.7.77 in ./venv/lib/python3.13/site-packages (from torch) (10.3.7.77)\n",
      "Requirement already satisfied: nvidia-cusolver-cu12==11.7.1.2 in ./venv/lib/python3.13/site-packages (from torch) (11.7.1.2)\n",
      "Requirement already satisfied: nvidia-cusparse-cu12==12.5.4.2 in ./venv/lib/python3.13/site-packages (from torch) (12.5.4.2)\n",
      "Requirement already satisfied: nvidia-cusparselt-cu12==0.6.3 in ./venv/lib/python3.13/site-packages (from torch) (0.6.3)\n",
      "Requirement already satisfied: nvidia-nccl-cu12==2.26.2 in ./venv/lib/python3.13/site-packages (from torch) (2.26.2)\n",
      "Requirement already satisfied: nvidia-nvtx-cu12==12.6.77 in ./venv/lib/python3.13/site-packages (from torch) (12.6.77)\n",
      "Requirement already satisfied: nvidia-nvjitlink-cu12==12.6.85 in ./venv/lib/python3.13/site-packages (from torch) (12.6.85)\n",
      "Requirement already satisfied: nvidia-cufile-cu12==1.11.1.6 in ./venv/lib/python3.13/site-packages (from torch) (1.11.1.6)\n",
      "Requirement already satisfied: triton==3.3.0 in ./venv/lib/python3.13/site-packages (from torch) (3.3.0)\n",
      "Requirement already satisfied: mpmath<1.4,>=1.1.0 in ./venv/lib/python3.13/site-packages (from sympy>=1.13.3->torch) (1.3.0)\n",
      "Requirement already satisfied: MarkupSafe>=2.0 in ./venv/lib/python3.13/site-packages (from jinja2->torch) (3.0.2)\n"
     ]
    }
   ],
   "source": [
    "!pip install torch"
   ]
  },
  {
   "cell_type": "markdown",
   "id": "E9FuuG8Q7T0G",
   "metadata": {
    "id": "E9FuuG8Q7T0G"
   },
   "source": [
    "# Data Preprocessing\n",
    "---"
   ]
  },
  {
   "cell_type": "code",
   "execution_count": 2,
   "id": "DPkqUuZ679FV",
   "metadata": {
    "id": "DPkqUuZ679FV"
   },
   "outputs": [],
   "source": [
    "import torch\n",
    "\n",
    "def read_file_utf8(file_path):\n",
    "    with open(file_path, 'r', encoding='utf-8') as file:\n",
    "        text = file.read()\n",
    "    return text\n",
    "\n",
    "# reading text file with utf8 encoding\n",
    "file_path = 'input.txt'\n",
    "text = read_file_utf8(file_path)\n",
    "\n",
    "# sorted list of unique characters from input\n",
    "vocabulary = sorted(list(set(text)))\n",
    "\n",
    "# string to integer mapping`\n",
    "stoi = {ch: i for i, ch in enumerate(vocabulary)}\n",
    "\n",
    "# integer to string mapping\n",
    "itos = {i: ch for i, ch in enumerate(vocabulary)}"
   ]
  },
  {
   "cell_type": "markdown",
   "id": "Iiy02RJAAh25",
   "metadata": {
    "id": "Iiy02RJAAh25"
   },
   "source": [
    "**Encode Decode Functions**"
   ]
  },
  {
   "cell_type": "code",
   "execution_count": 3,
   "id": "OKJNIpuQ-_mN",
   "metadata": {
    "id": "OKJNIpuQ-_mN"
   },
   "outputs": [],
   "source": [
    "def encode(s):\n",
    "  output = []\n",
    "  for char in s:\n",
    "    output.append(stoi[char])\n",
    "  return output\n",
    "\n",
    "def decode(i):\n",
    "  output = \"\"\n",
    "  for j in i:\n",
    "    output += itos[j]\n",
    "  return output"
   ]
  },
  {
   "cell_type": "markdown",
   "id": "hd2eEt1rKrKM",
   "metadata": {
    "id": "hd2eEt1rKrKM"
   },
   "source": [
    "**Tokenization and Training-Val Split (90/10)**"
   ]
  },
  {
   "cell_type": "code",
   "execution_count": 4,
   "id": "p0d5XqT4CFAW",
   "metadata": {
    "colab": {
     "base_uri": "https://localhost:8080/"
    },
    "id": "p0d5XqT4CFAW",
    "outputId": "19681358-adfd-4ea6-931f-482c8a2b069e"
   },
   "outputs": [
    {
     "name": "stdout",
     "output_type": "stream",
     "text": [
      "Tensor size: torch.Size([1115394])\n",
      "Training set size: torch.Size([1003854])\n",
      "Validation set size: torch.Size([111540])\n"
     ]
    }
   ],
   "source": [
    "from collections import Counter\n",
    "\n",
    "# character-level tokenization\n",
    "tokens = encode(text)\n",
    "tensor = torch.tensor(tokens) # 1D tensor of size [1115394] elements\n",
    "print(f\"Tensor size: {tensor.shape}\")\n",
    "\n",
    "split_idx = int(0.9 * len(tensor))\n",
    "\n",
    "# split tensor into 90/10 training and validation sets\n",
    "train_data = tensor[:split_idx]\n",
    "print(f\"Training set size: {train_data.shape}\")\n",
    "val_data = tensor[split_idx:]\n",
    "print(f\"Validation set size: {val_data.shape}\")"
   ]
  },
  {
   "cell_type": "markdown",
   "id": "P7EamqggKzQ0",
   "metadata": {
    "id": "P7EamqggKzQ0"
   },
   "source": [
    "# Data Loading\n",
    "---"
   ]
  },
  {
   "cell_type": "markdown",
   "id": "4fa1Mt1_Ph1A",
   "metadata": {
    "id": "4fa1Mt1_Ph1A"
   },
   "source": [
    "**Get Batch Function**"
   ]
  },
  {
   "cell_type": "code",
   "execution_count": 5,
   "id": "-Rnts05vKwZL",
   "metadata": {
    "id": "-Rnts05vKwZL"
   },
   "outputs": [],
   "source": [
    "batch_size = 64 # num of blocks\n",
    "block_size = 256 # num of chars in a sequence\n",
    "\n",
    "def get_batch(split):\n",
    "\n",
    "  # returns random int tensor of size batch_size\n",
    "  rand_indices = torch.randint(len(split) - block_size, (batch_size,))\n",
    "\n",
    "  # returns tensors of size (batch_size, block_size)\n",
    "  x = torch.stack([split[i:i+block_size] for i in rand_indices])\n",
    "\n",
    "  # target sequence shifted by 1\n",
    "  y = torch.stack([split[i+1:i+block_size+1] for i in rand_indices])\n",
    "  return x, y"
   ]
  },
  {
   "cell_type": "markdown",
   "id": "YVsZ0lBETZi5",
   "metadata": {
    "id": "YVsZ0lBETZi5"
   },
   "source": [
    "# Model Architecture\n",
    "---"
   ]
  },
  {
   "cell_type": "markdown",
   "id": "QRXFBRo8JXqi",
   "metadata": {
    "id": "QRXFBRo8JXqi"
   },
   "source": [
    "**Embedding Layer**"
   ]
  },
  {
   "cell_type": "code",
   "execution_count": 6,
   "id": "faN1i2lSJVAo",
   "metadata": {
    "id": "faN1i2lSJVAo"
   },
   "outputs": [],
   "source": [
    "from torch import nn\n",
    "from torch.nn import functional as F\n",
    "from math import sqrt\n",
    "\n",
    "class TransformerEmbedding(nn.Module):\n",
    "    def __init__(self, vocab_size, n_embd, block_size):\n",
    "        super().__init__()\n",
    "        self.token_embedding = nn.Embedding(vocab_size, n_embd)\n",
    "        self.position_embedding = nn.Embedding(block_size, n_embd)\n",
    "\n",
    "    def forward(self, x):\n",
    "        B, T = x.shape  # x is (batch, seq_len) of token indices\n",
    "        tok_emb = self.token_embedding(x)         # (B, T, n_embd)\n",
    "        pos_emb = self.position_embedding(torch.arange(T, device=x.device))  # (T, n_embd)\n",
    "        return tok_emb + pos_emb  # (B, T, n_embd)"
   ]
  },
  {
   "cell_type": "markdown",
   "id": "4S0dD9Jp_Yuh",
   "metadata": {
    "id": "4S0dD9Jp_Yuh"
   },
   "source": [
    "**Transformer Block**"
   ]
  },
  {
   "cell_type": "code",
   "execution_count": 7,
   "id": "INxNoVCST_t2",
   "metadata": {
    "id": "INxNoVCST_t2"
   },
   "outputs": [],
   "source": [
    "class Transformer_Block(nn.Module):\n",
    "    def __init__(self, vocab_size, n_embd, n_head, n_layer, block_size, dropout):\n",
    "        super().__init__()\n",
    "\n",
    "        # n_heads hyperparameter\n",
    "        self.n_head = n_head\n",
    "\n",
    "        # embedding layer\n",
    "        self.token_embedding_table = nn.Embedding(vocab_size, n_embd) # (num of embeddings, dimensions)\n",
    "        self.position_embedding_table = nn.Embedding(block_size, n_embd)\n",
    "\n",
    "        # linear layers for multi_head attention\n",
    "        self.q_proj = nn.Linear(n_embd, n_embd)\n",
    "        self.k_proj = nn.Linear(n_embd, n_embd)\n",
    "        self.v_proj = nn.Linear(n_embd, n_embd)\n",
    "        self.output_proj = nn.Linear(n_embd, n_embd)\n",
    "\n",
    "        # feed forward layer\n",
    "        self.feed_forward = nn.Sequential(\n",
    "            nn.Linear(n_embd, 4 * n_embd),\n",
    "            nn.ReLU(),\n",
    "            nn.Linear(4 * n_embd, n_embd)\n",
    "        )\n",
    "\n",
    "        # norm layers\n",
    "        self.ln1 = nn.LayerNorm(n_embd)\n",
    "        self.ln2 = nn.LayerNorm(n_embd)\n",
    "\n",
    "        # dropout\n",
    "        self.dropout = nn.Dropout(dropout)\n",
    "\n",
    "\n",
    "    def masked_attention(self, Q, K, V):\n",
    "        \"\"\"\n",
    "        Q, K, V: (batch, n_head, seq_len, head_dim)\n",
    "        Returns: (batch, n_head, seq_len, head_dim)\n",
    "        \"\"\"\n",
    "\n",
    "        # compute scores\n",
    "        d_k = Q.shape[-1]\n",
    "        scores = (Q @ K.transpose(-2, -1)) / sqrt(d_k)\n",
    "\n",
    "        # creates a diagonal of -inf values to mask future comparisions\n",
    "        T = scores.size(-1)\n",
    "        mask = torch.triu(torch.ones(T, T), diagonal=1).to(Q.device).bool()\n",
    "        scores = scores.masked_fill(mask, float('-inf'))\n",
    "\n",
    "        # apply softmax\n",
    "        weights = F.softmax(scores, dim=-1)\n",
    "        return weights @ V # returns tensor\n",
    "\n",
    "    def multihead_attention(self, x):\n",
    "        \"\"\"\n",
    "        x: (batch, tokens, embeddings)\n",
    "        Returns: (batch, tokens, embeddings)\n",
    "        \"\"\"\n",
    "        # batch(num of sequences), tokens(num of tokens), embeddings(size of vector for each token)\n",
    "        B, T, E = x.shape\n",
    "\n",
    "        # divide embeddings for parallel attention\n",
    "        head_dim = E // self.n_head\n",
    "\n",
    "        # passing Q, K, V through linear layers to transform their shapes\n",
    "        Q = self.q_proj(x) # (B, T, E)\n",
    "        K = self.k_proj(x)\n",
    "        V = self.v_proj(x)\n",
    "\n",
    "        # using view to add n_head as a dimension\n",
    "        Q = Q.view(B, T, self.n_head, head_dim).transpose(1, 2)\n",
    "        K = K.view(B, T, self.n_head, head_dim).transpose(1, 2)\n",
    "        V = V.view(B, T, self.n_head, head_dim).transpose(1, 2)\n",
    "\n",
    "        output = self.masked_attention(Q, K, V)                     # (B, n_head, T, head_dim)\n",
    "        output = output.transpose(1, 2).contiguous().view(B, T, E)  # (B, T, E)\n",
    "\n",
    "        # go through final linear layer\n",
    "        output = self.output_proj(output)\n",
    "\n",
    "        # dropout for regularlization\n",
    "        output = self.dropout(output)\n",
    "        return output\n",
    "\n",
    "\n",
    "    def forward(self, x):\n",
    "        # masked multihead attention -> add & norm\n",
    "        attn_out = self.multihead_attention(x)\n",
    "        x = self.ln1(x + attn_out)\n",
    "\n",
    "        # feedforward -> dropout -> add & norm\n",
    "        ff_out = self.feed_forward(x)\n",
    "        ff_out = self.dropout(ff_out)\n",
    "        x = self.ln2(x + ff_out)\n",
    "        return x"
   ]
  },
  {
   "cell_type": "markdown",
   "id": "PU1YmJNy_tPc",
   "metadata": {
    "id": "PU1YmJNy_tPc"
   },
   "source": [
    "**GPTLanguageModel:**"
   ]
  },
  {
   "cell_type": "code",
   "execution_count": 8,
   "id": "x9cpaNdp_u41",
   "metadata": {
    "id": "x9cpaNdp_u41"
   },
   "outputs": [],
   "source": [
    "class GPTLanguageModel(nn.Module):\n",
    "    def __init__(self, vocab_size, n_embd, n_head, n_layer, block_size, dropout):\n",
    "        super().__init__()\n",
    "\n",
    "        self.block_size = block_size\n",
    "        self.vocab_size = vocab_size\n",
    "        self.n_layer = n_layer\n",
    "        self.n_head = n_head\n",
    "        self.n_embd = n_embd\n",
    "        self.dropout = dropout\n",
    "\n",
    "        # embedding layer\n",
    "        self.embedding = TransformerEmbedding(vocab_size, n_embd, block_size)\n",
    "\n",
    "        # transformer blocks\n",
    "        self.blocks = nn.Sequential(*[\n",
    "            Transformer_Block(\n",
    "                vocab_size=vocab_size,         \n",
    "                n_embd=n_embd,\n",
    "                n_head=n_head,\n",
    "                n_layer=n_layer,               \n",
    "                block_size=block_size,\n",
    "                dropout=dropout\n",
    "            )\n",
    "            for _ in range(n_layer)\n",
    "        ])\n",
    "\n",
    "        # norm and feedforward layer \n",
    "        self.ln_f = nn.LayerNorm(n_embd)\n",
    "        self.lm_head = nn.Linear(n_embd, vocab_size)\n",
    "\n",
    "    def forward(self, idx, targets=None):\n",
    "        \"\"\"\n",
    "        idx: (B, T) token indices\n",
    "        targets: (B, T) optional ground truth for loss\n",
    "        \"\"\"\n",
    "        x = self.embedding(idx)  # (B, T, n_embd)\n",
    "        x = self.blocks(x)       # (B, T, n_embd)\n",
    "        x = self.ln_f(x)         # (B, T, n_embd)\n",
    "        logits = self.lm_head(x) # (B, T, vocab_size)\n",
    "        \n",
    "        if targets is None:\n",
    "            return logits, None\n",
    "        \n",
    "        # reshape logits and targets for cross entropy\n",
    "        B, T, C = logits.shape\n",
    "        logits = logits.view(B * T, C)\n",
    "        targets = targets.view(B * T)\n",
    "        loss = F.cross_entropy(logits, targets)\n",
    "        return logits, loss    \n",
    "\n",
    "\n",
    "    def generate(self, idx, max_new_tokens):\n",
    "        \"\"\"\n",
    "        idx: (B, T) starting tokens\n",
    "        Returns: (B, T + max_new_tokens) — generated sequence\n",
    "        \"\"\"\n",
    "        for _ in range(max_new_tokens):\n",
    "            idx_cond = idx[:, -self.block_size:]  # crop to block size\n",
    "            logits, _ = self.forward(idx_cond)    # (B, T, vocab_size)\n",
    "            next_token_logits = logits[:, -1, :]  # last time step\n",
    "            probs = F.softmax(next_token_logits, dim=-1)  # (B, vocab_size)\n",
    "            next_token = torch.multinomial(probs, num_samples=1)  # (B, 1)\n",
    "            idx = torch.cat((idx, next_token), dim=1)  # append to sequence\n",
    "        return idx\n"
   ]
  },
  {
   "cell_type": "markdown",
   "id": "c9869152-1198-489a-9aa3-bcb076de3972",
   "metadata": {},
   "source": [
    "**Initialize Model with Hyperparameters**"
   ]
  },
  {
   "cell_type": "code",
   "execution_count": 9,
   "id": "-Ydtw8JsJ9ZZ",
   "metadata": {
    "id": "-Ydtw8JsJ9ZZ"
   },
   "outputs": [],
   "source": [
    "# Hyperparameters\n",
    "# * batch_size = 64\n",
    "# * block_size = 256\n",
    "# * n_embd = 384\n",
    "# * n_head = 6\n",
    "# * n_layer = 6\n",
    "# * dropout = 0.2\n",
    "# * learning_rate = 3e-4\n",
    "# * max_iters = 5000\n",
    "\n",
    "model = GPTLanguageModel(\n",
    "    vocab_size=len(vocabulary),\n",
    "    n_embd=384,\n",
    "    n_head=6,\n",
    "    n_layer=6,\n",
    "    block_size=256,\n",
    "    dropout=0.2\n",
    ")"
   ]
  },
  {
   "cell_type": "markdown",
   "id": "2xG6W6MXQALZ",
   "metadata": {
    "id": "2xG6W6MXQALZ"
   },
   "source": [
    "**Setting Tensor to Device (GPU or CPU)**\n"
   ]
  },
  {
   "cell_type": "code",
   "execution_count": 10,
   "id": "NuCrJSpePT7f",
   "metadata": {
    "id": "NuCrJSpePT7f"
   },
   "outputs": [
    {
     "name": "stdout",
     "output_type": "stream",
     "text": [
      "Using cuda\n",
      "cuda:0 cuda:0 cuda:0\n"
     ]
    }
   ],
   "source": [
    "device = torch.device(\"cuda\" if torch.cuda.is_available() else \"cpu\")\n",
    "print(f\"Using {device}\")\n",
    "\n",
    "# setting training and validation data to use device\n",
    "train_data = tensor.to(device) \n",
    "val_data = tensor.to(device)\n",
    "model = model.to(device)\n",
    "\n",
    "print(train_data.device, val_data.device, next(model.parameters()).device)"
   ]
  },
  {
   "cell_type": "markdown",
   "id": "EV7IDXpDOtCN",
   "metadata": {
    "id": "EV7IDXpDOtCN"
   },
   "source": [
    "# Training\n",
    "---"
   ]
  },
  {
   "cell_type": "markdown",
   "id": "85bda5f8-1ffe-4ae7-abea-4266297ec03b",
   "metadata": {},
   "source": [
    "**Initialize esimate loss function for train and val sets**"
   ]
  },
  {
   "cell_type": "code",
   "execution_count": 11,
   "id": "vuHA5NVSQajH",
   "metadata": {
    "id": "vuHA5NVSQajH"
   },
   "outputs": [],
   "source": [
    "@torch.no_grad()\n",
    "def estimate_loss():\n",
    "    model.eval()\n",
    "    losses = {'train': 0.0, 'val': 0.0}\n",
    "    for split in ['train', 'val']:\n",
    "        data = train_data if split == 'train' else val_data\n",
    "        for _ in range(5): # run 5 testing batches\n",
    "            x, y = get_batch(data)\n",
    "            _, loss = model(x, y)\n",
    "            losses[split] += loss.item()\n",
    "        losses[split] /= 5 # get the average out of 5 runs\n",
    "    model.train()\n",
    "    return losses"
   ]
  },
  {
   "cell_type": "code",
   "execution_count": 12,
   "id": "hDFdhx6pMCWp",
   "metadata": {
    "id": "hDFdhx6pMCWp",
    "scrolled": true
   },
   "outputs": [
    {
     "name": "stdout",
     "output_type": "stream",
     "text": [
      "Step: 0, Train Loss: 3.7468, Val Loss: 3.7425\n",
      "Step: 100, Train Loss: 2.4762, Val Loss: 2.4781\n",
      "Step: 200, Train Loss: 2.3762, Val Loss: 2.3878\n",
      "Step: 300, Train Loss: 2.1555, Val Loss: 2.1554\n",
      "Step: 400, Train Loss: 1.9553, Val Loss: 1.9562\n",
      "Step: 500, Train Loss: 1.8002, Val Loss: 1.7954\n",
      "Step: 600, Train Loss: 1.7049, Val Loss: 1.7052\n",
      "Step: 700, Train Loss: 1.6178, Val Loss: 1.6275\n",
      "Step: 800, Train Loss: 1.5563, Val Loss: 1.5483\n",
      "Step: 900, Train Loss: 1.4961, Val Loss: 1.4938\n",
      "Step: 1000, Train Loss: 1.4643, Val Loss: 1.4649\n",
      "Step: 1100, Train Loss: 1.4063, Val Loss: 1.4068\n",
      "Step: 1200, Train Loss: 1.4007, Val Loss: 1.4000\n",
      "Step: 1300, Train Loss: 1.3625, Val Loss: 1.3701\n",
      "Step: 1400, Train Loss: 1.3434, Val Loss: 1.3416\n",
      "Step: 1500, Train Loss: 1.3121, Val Loss: 1.3171\n",
      "Step: 1600, Train Loss: 1.3058, Val Loss: 1.3101\n",
      "Step: 1700, Train Loss: 1.2962, Val Loss: 1.3065\n",
      "Step: 1800, Train Loss: 1.2797, Val Loss: 1.2675\n",
      "Step: 1900, Train Loss: 1.2594, Val Loss: 1.2582\n",
      "Step: 2000, Train Loss: 1.2396, Val Loss: 1.2517\n",
      "Step: 2100, Train Loss: 1.2369, Val Loss: 1.2216\n",
      "Step: 2200, Train Loss: 1.2207, Val Loss: 1.2122\n",
      "Step: 2300, Train Loss: 1.2165, Val Loss: 1.2101\n",
      "Step: 2400, Train Loss: 1.2050, Val Loss: 1.1961\n",
      "Step: 2500, Train Loss: 1.1780, Val Loss: 1.1863\n",
      "Step: 2600, Train Loss: 1.1716, Val Loss: 1.1729\n",
      "Step: 2700, Train Loss: 1.1693, Val Loss: 1.1594\n",
      "Step: 2800, Train Loss: 1.1522, Val Loss: 1.1565\n",
      "Step: 2900, Train Loss: 1.1331, Val Loss: 1.1225\n",
      "Step: 3000, Train Loss: 1.1365, Val Loss: 1.1269\n",
      "Step: 3100, Train Loss: 1.1183, Val Loss: 1.1141\n",
      "Step: 3200, Train Loss: 1.1028, Val Loss: 1.1060\n",
      "Step: 3300, Train Loss: 1.1150, Val Loss: 1.1139\n",
      "Step: 3400, Train Loss: 1.0752, Val Loss: 1.0937\n",
      "Step: 3500, Train Loss: 1.0892, Val Loss: 1.0761\n",
      "Step: 3600, Train Loss: 1.0850, Val Loss: 1.0786\n",
      "Step: 3700, Train Loss: 1.0579, Val Loss: 1.0440\n",
      "Step: 3800, Train Loss: 1.0580, Val Loss: 1.0532\n",
      "Step: 3900, Train Loss: 1.0354, Val Loss: 1.0499\n",
      "Step: 4000, Train Loss: 1.0498, Val Loss: 1.0423\n",
      "Step: 4100, Train Loss: 1.0400, Val Loss: 1.0311\n",
      "Step: 4200, Train Loss: 1.0119, Val Loss: 1.0243\n",
      "Step: 4300, Train Loss: 1.0001, Val Loss: 1.0092\n",
      "Step: 4400, Train Loss: 1.0070, Val Loss: 0.9983\n",
      "Step: 4500, Train Loss: 0.9887, Val Loss: 0.9906\n",
      "Step: 4600, Train Loss: 0.9861, Val Loss: 0.9876\n",
      "Step: 4700, Train Loss: 0.9702, Val Loss: 0.9761\n",
      "Step: 4800, Train Loss: 0.9605, Val Loss: 0.9523\n",
      "Step: 4900, Train Loss: 0.9679, Val Loss: 0.9545\n"
     ]
    }
   ],
   "source": [
    "optimizer = torch.optim.AdamW(model.parameters(), lr=3e-4)\n",
    "\n",
    "max_iters = 5000\n",
    "\n",
    "for step in range(max_iters):\n",
    "    xb, yb = get_batch(train_data)\n",
    "    logits, loss = model(xb, yb)\n",
    "\n",
    "    optimizer.zero_grad(set_to_none=True)\n",
    "    loss.backward()\n",
    "    optimizer.step()\n",
    "    \n",
    "    \n",
    "    if step % 100 == 0:\n",
    "        losses = estimate_loss()\n",
    "        print(f\"Step: {step}, Train Loss: {losses['train']:.4f}, Val Loss: {losses['val']:.4f}\")\n",
    "\n"
   ]
  },
  {
   "cell_type": "markdown",
   "id": "1cc3da7d-f8f7-4538-8d9d-a25aaa9d1aa5",
   "metadata": {},
   "source": [
    "# Model Testing\n",
    "--- "
   ]
  },
  {
   "cell_type": "code",
   "execution_count": 14,
   "id": "f4156fcf-21c6-4603-a09b-cac9dec56c9e",
   "metadata": {},
   "outputs": [
    {
     "name": "stdout",
     "output_type": "stream",
     "text": [
      "Sample output: \n",
      "How came this shame man thus ice? why my as\n",
      "I could not, first a brace of king, thou\n",
      "shalt shay the fender of heart's child? yes, but I\n",
      "know to have this visitation.\n",
      "\n",
      "LUCIO:\n",
      "Know, how you will it be hooked?\n",
      "\n",
      "ISABELLA:\n",
      "Hope is foolish desire\n",
      "Your will be perceive in the virtuous proclaimedy?\n",
      "\n",
      "DUKE VINCENTIO:\n",
      "Ay, why, there's a gage: stay a gaol.\n",
      "Inch will death not, thou wilt lay with thee.\n",
      "\n",
      "iPSON:\n",
      "O, if he be it so, she had been never been.\n",
      "\n",
      "DUKE OF AUMERLE:\n",
      "He knew my soul! When she hath thy fa\n"
     ]
    }
   ],
   "source": [
    "# generate sample output\n",
    "model.eval()\n",
    "context = torch.zeros((1, 1), dtype=torch.long).to(device)  # start token (e.g. 0)\n",
    "generated = model.generate(context, max_new_tokens=500)[0].tolist()\n",
    "print(\"Sample output:\", decode(generated))"
   ]
  },
  {
   "cell_type": "code",
   "execution_count": null,
   "id": "1b9a1ba3-b541-424d-b4f4-7d03f3686dc7",
   "metadata": {},
   "outputs": [],
   "source": []
  }
 ],
 "metadata": {
  "colab": {
   "provenance": []
  },
  "kernelspec": {
   "display_name": "Python (myvenv)",
   "language": "python",
   "name": "myvenv"
  },
  "language_info": {
   "codemirror_mode": {
    "name": "ipython",
    "version": 3
   },
   "file_extension": ".py",
   "mimetype": "text/x-python",
   "name": "python",
   "nbconvert_exporter": "python",
   "pygments_lexer": "ipython3",
   "version": "3.13.3"
  }
 },
 "nbformat": 4,
 "nbformat_minor": 5
}
